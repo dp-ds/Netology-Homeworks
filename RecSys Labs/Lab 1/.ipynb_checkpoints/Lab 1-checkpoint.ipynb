{
 "cells": [
  {
   "cell_type": "markdown",
   "metadata": {},
   "source": [
    "### Устанавливаем mrec для python 3"
   ]
  },
  {
   "cell_type": "code",
   "execution_count": 1,
   "metadata": {},
   "outputs": [],
   "source": [
    "# !git clone https://github.com/inpefess/mrec.git\n",
    "# !cd mrec\n",
    "# !sudo python3 setup.py install"
   ]
  },
  {
   "cell_type": "markdown",
   "metadata": {},
   "source": [
    "### Загружаем и распаковываем датасет"
   ]
  },
  {
   "cell_type": "code",
   "execution_count": 2,
   "metadata": {},
   "outputs": [
    {
     "name": "stdout",
     "output_type": "stream",
     "text": [
      "196\t242\t3\t881250949\r\n",
      "186\t302\t3\t891717742\r\n",
      "22\t377\t1\t878887116\r\n",
      "244\t51\t2\t880606923\r\n",
      "166\t346\t1\t886397596\r\n",
      "298\t474\t4\t884182806\r\n",
      "115\t265\t2\t881171488\r\n",
      "253\t465\t5\t891628467\r\n",
      "305\t451\t3\t886324817\r\n",
      "6\t86\t3\t883603013\r\n"
     ]
    }
   ],
   "source": [
    "# !cd ..\n",
    "# !curl -O http://www.grouplens.org/system/files/ml-100k.zip\n",
    "# !unzip ml-100k.zip\n",
    "!head ml-100k/u.data"
   ]
  },
  {
   "cell_type": "markdown",
   "metadata": {},
   "source": [
    "### Подготавливаем тестовую и обучающую выборки"
   ]
  },
  {
   "cell_type": "code",
   "execution_count": 3,
   "metadata": {},
   "outputs": [
    {
     "name": "stdout",
     "output_type": "stream",
     "text": [
      "[2017-12-10 19:52:27,747] INFO: sorting input data...\n",
      "[2017-12-10 19:52:28,567] INFO: creating split 0: /Users/dmitry/Desktop/Netology DS/RecSys Labs/Lab 1/splits/u.data.train.0 /Users/dmitry/Desktop/Netology DS/RecSys Labs/Lab 1/splits/u.data.test.0\n",
      "[2017-12-10 19:52:29,293] INFO: creating split 1: /Users/dmitry/Desktop/Netology DS/RecSys Labs/Lab 1/splits/u.data.train.1 /Users/dmitry/Desktop/Netology DS/RecSys Labs/Lab 1/splits/u.data.test.1\n",
      "[2017-12-10 19:52:30,037] INFO: creating split 2: /Users/dmitry/Desktop/Netology DS/RecSys Labs/Lab 1/splits/u.data.train.2 /Users/dmitry/Desktop/Netology DS/RecSys Labs/Lab 1/splits/u.data.test.2\n",
      "[2017-12-10 19:52:30,796] INFO: creating split 3: /Users/dmitry/Desktop/Netology DS/RecSys Labs/Lab 1/splits/u.data.train.3 /Users/dmitry/Desktop/Netology DS/RecSys Labs/Lab 1/splits/u.data.test.3\n",
      "[2017-12-10 19:52:31,522] INFO: creating split 4: /Users/dmitry/Desktop/Netology DS/RecSys Labs/Lab 1/splits/u.data.train.4 /Users/dmitry/Desktop/Netology DS/RecSys Labs/Lab 1/splits/u.data.test.4\n",
      "[2017-12-10 19:52:32,284] INFO: cleaning up...\n",
      "[2017-12-10 19:52:32,292] INFO: done\n"
     ]
    }
   ],
   "source": [
    "!mrec_prepare --dataset ml-100k/u.data --outdir splits --rating_thresh 4 --test_size 0.5 --binarize"
   ]
  },
  {
   "cell_type": "code",
   "execution_count": 4,
   "metadata": {},
   "outputs": [
    {
     "name": "stdout",
     "output_type": "stream",
     "text": [
      "u.data.test.0  u.data.test.2  u.data.test.4  u.data.train.1 u.data.train.3\r\n",
      "u.data.test.1  u.data.test.3  u.data.train.0 u.data.train.2 u.data.train.4\r\n"
     ]
    }
   ],
   "source": [
    "!ls splits/"
   ]
  },
  {
   "cell_type": "markdown",
   "metadata": {},
   "source": [
    "Запустим 4 IPython engines для обучения: "
   ]
  },
  {
   "cell_type": "code",
   "execution_count": 5,
   "metadata": {
    "collapsed": true
   },
   "outputs": [],
   "source": [
    "!ipcluster start -n4 --daemonize"
   ]
  },
  {
   "cell_type": "markdown",
   "metadata": {},
   "source": [
    "### Рекомендации по популярности"
   ]
  },
  {
   "cell_type": "markdown",
   "metadata": {},
   "source": [
    "Обучаем модели:"
   ]
  },
  {
   "cell_type": "code",
   "execution_count": 6,
   "metadata": {},
   "outputs": [
    {
     "name": "stdout",
     "output_type": "stream",
     "text": [
      "[2017-12-10 19:52:36,591] INFO: processing /Users/dmitry/Desktop/Netology DS/RecSys Labs/Lab 1/splits/u.data.train.2...\n",
      "[2017-12-10 19:52:37,810] INFO: processing /Users/dmitry/Desktop/Netology DS/RecSys Labs/Lab 1/splits/u.data.train.3...\n",
      "[2017-12-10 19:52:38,957] INFO: processing /Users/dmitry/Desktop/Netology DS/RecSys Labs/Lab 1/splits/u.data.train.4...\n",
      "[2017-12-10 19:52:40,097] INFO: processing /Users/dmitry/Desktop/Netology DS/RecSys Labs/Lab 1/splits/u.data.train.1...\n",
      "[2017-12-10 19:52:41,275] INFO: processing /Users/dmitry/Desktop/Netology DS/RecSys Labs/Lab 1/splits/u.data.train.0...\n",
      "[2017-12-10 19:52:42,413] INFO: done\n"
     ]
    }
   ],
   "source": [
    "!mrec_train --model=popularity -n4 --input_format tsv --train \"splits/u.data.train.*\" --outdir Models/Popularity_Models"
   ]
  },
  {
   "cell_type": "markdown",
   "metadata": {},
   "source": [
    "Делаем рекомендации:"
   ]
  },
  {
   "cell_type": "code",
   "execution_count": 7,
   "metadata": {
    "scrolled": true
   },
   "outputs": [
    {
     "name": "stdout",
     "output_type": "stream",
     "text": [
      "[2017-12-10 19:52:44,673] INFO: processing /Users/dmitry/Desktop/Netology DS/RecSys Labs/Lab 1/splits/u.data.train.2...\n",
      "[2017-12-10 19:52:44,674] INFO: creating recs directory /Users/dmitry/Desktop/Netology DS/RecSys Labs/Lab 1/Recs/Popularity_Recs/u.data.train.2-recs...\n",
      "[2017-12-10 19:52:44,681] INFO: checking for existing output recs...\n",
      "[2017-12-10 19:52:44,683] INFO: creating tasks...\n",
      "[2017-12-10 19:52:44,683] INFO: loading dataset to get size...\n",
      "[2017-12-10 19:52:45,448] INFO: loading model to get size...\n",
      "[2017-12-10 19:52:45,449] INFO: created 1 tasks, 943 users per task\n",
      "[2017-12-10 19:52:45,449] INFO: running in parallel across ipython engines...\n",
      "[2017-12-10 19:52:46,954] INFO: checking output files...\n",
      "[2017-12-10 19:52:46,954] INFO: SUCCESS: all tasks completed\n",
      "[2017-12-10 19:52:46,954] INFO: concatenating 1 partial output files...\n",
      "[2017-12-10 19:52:46,965] INFO: removing partial output files...\n",
      "[2017-12-10 19:52:46,966] INFO: done\n",
      "[2017-12-10 19:52:46,967] INFO: processing /Users/dmitry/Desktop/Netology DS/RecSys Labs/Lab 1/splits/u.data.train.3...\n",
      "[2017-12-10 19:52:46,967] INFO: creating recs directory /Users/dmitry/Desktop/Netology DS/RecSys Labs/Lab 1/Recs/Popularity_Recs/u.data.train.3-recs...\n",
      "[2017-12-10 19:52:46,973] INFO: checking for existing output recs...\n",
      "[2017-12-10 19:52:46,973] INFO: creating tasks...\n",
      "[2017-12-10 19:52:46,973] INFO: loading dataset to get size...\n",
      "[2017-12-10 19:52:47,722] INFO: loading model to get size...\n",
      "[2017-12-10 19:52:47,723] INFO: created 1 tasks, 943 users per task\n",
      "[2017-12-10 19:52:47,724] INFO: running in parallel across ipython engines...\n",
      "[2017-12-10 19:52:49,420] INFO: checking output files...\n",
      "[2017-12-10 19:52:49,421] INFO: SUCCESS: all tasks completed\n",
      "[2017-12-10 19:52:49,421] INFO: concatenating 1 partial output files...\n",
      "[2017-12-10 19:52:49,432] INFO: removing partial output files...\n",
      "[2017-12-10 19:52:49,434] INFO: done\n",
      "[2017-12-10 19:52:49,435] INFO: processing /Users/dmitry/Desktop/Netology DS/RecSys Labs/Lab 1/splits/u.data.train.4...\n",
      "[2017-12-10 19:52:49,435] INFO: creating recs directory /Users/dmitry/Desktop/Netology DS/RecSys Labs/Lab 1/Recs/Popularity_Recs/u.data.train.4-recs...\n",
      "[2017-12-10 19:52:49,446] INFO: checking for existing output recs...\n",
      "[2017-12-10 19:52:49,447] INFO: creating tasks...\n",
      "[2017-12-10 19:52:49,447] INFO: loading dataset to get size...\n",
      "[2017-12-10 19:52:50,660] INFO: loading model to get size...\n",
      "[2017-12-10 19:52:50,661] INFO: created 1 tasks, 943 users per task\n",
      "[2017-12-10 19:52:50,662] INFO: running in parallel across ipython engines...\n",
      "[2017-12-10 19:52:52,326] INFO: checking output files...\n",
      "[2017-12-10 19:52:52,326] INFO: SUCCESS: all tasks completed\n",
      "[2017-12-10 19:52:52,326] INFO: concatenating 1 partial output files...\n",
      "[2017-12-10 19:52:52,333] INFO: removing partial output files...\n",
      "[2017-12-10 19:52:52,334] INFO: done\n",
      "[2017-12-10 19:52:52,335] INFO: processing /Users/dmitry/Desktop/Netology DS/RecSys Labs/Lab 1/splits/u.data.train.1...\n",
      "[2017-12-10 19:52:52,335] INFO: creating recs directory /Users/dmitry/Desktop/Netology DS/RecSys Labs/Lab 1/Recs/Popularity_Recs/u.data.train.1-recs...\n",
      "[2017-12-10 19:52:52,341] INFO: checking for existing output recs...\n",
      "[2017-12-10 19:52:52,342] INFO: creating tasks...\n",
      "[2017-12-10 19:52:52,342] INFO: loading dataset to get size...\n",
      "[2017-12-10 19:52:53,071] INFO: loading model to get size...\n",
      "[2017-12-10 19:52:53,072] INFO: created 1 tasks, 943 users per task\n",
      "[2017-12-10 19:52:53,073] INFO: running in parallel across ipython engines...\n",
      "[2017-12-10 19:52:54,780] INFO: checking output files...\n",
      "[2017-12-10 19:52:54,780] INFO: SUCCESS: all tasks completed\n",
      "[2017-12-10 19:52:54,780] INFO: concatenating 1 partial output files...\n",
      "[2017-12-10 19:52:54,787] INFO: removing partial output files...\n",
      "[2017-12-10 19:52:54,788] INFO: done\n",
      "[2017-12-10 19:52:54,789] INFO: processing /Users/dmitry/Desktop/Netology DS/RecSys Labs/Lab 1/splits/u.data.train.0...\n",
      "[2017-12-10 19:52:54,789] INFO: creating recs directory /Users/dmitry/Desktop/Netology DS/RecSys Labs/Lab 1/Recs/Popularity_Recs/u.data.train.0-recs...\n",
      "[2017-12-10 19:52:54,796] INFO: checking for existing output recs...\n",
      "[2017-12-10 19:52:54,797] INFO: creating tasks...\n",
      "[2017-12-10 19:52:54,797] INFO: loading dataset to get size...\n",
      "[2017-12-10 19:52:55,726] INFO: loading model to get size...\n",
      "[2017-12-10 19:52:55,727] INFO: created 1 tasks, 943 users per task\n",
      "[2017-12-10 19:52:55,727] INFO: running in parallel across ipython engines...\n",
      "[2017-12-10 19:52:57,814] INFO: checking output files...\n",
      "[2017-12-10 19:52:57,814] INFO: SUCCESS: all tasks completed\n",
      "[2017-12-10 19:52:57,814] INFO: concatenating 1 partial output files...\n",
      "[2017-12-10 19:52:57,823] INFO: removing partial output files...\n",
      "[2017-12-10 19:52:57,823] INFO: done\n",
      "ItemPop\n",
      "mrr            0.5205 +/- 0.0058\n",
      "prec@5         0.2617 +/- 0.0024\n",
      "prec@10        0.2455 +/- 0.0013\n",
      "prec@15        0.2291 +/- 0.0004\n",
      "prec@20        0.2112 +/- 0.0008\n"
     ]
    }
   ],
   "source": [
    "!mrec_predict --input_format tsv --test_input_format tsv --train \"splits/u.data.train.*\" --modeldir Models/Popularity_Models --outdir Recs/Popularity_Recs"
   ]
  },
  {
   "cell_type": "markdown",
   "metadata": {},
   "source": [
    "### kNN"
   ]
  },
  {
   "cell_type": "markdown",
   "metadata": {},
   "source": [
    "Обучаем модели:"
   ]
  },
  {
   "cell_type": "code",
   "execution_count": 8,
   "metadata": {},
   "outputs": [
    {
     "name": "stdout",
     "output_type": "stream",
     "text": [
      "[2017-12-10 19:53:01,639] INFO: processing /Users/dmitry/Desktop/Netology DS/RecSys Labs/Lab 1/splits/u.data.train.2...\n",
      "[2017-12-10 19:53:01,639] INFO: finding number of items...\n",
      "[2017-12-10 19:53:02,672] INFO: 943 users and 1682 items\n",
      "[2017-12-10 19:53:02,672] INFO: creating sims directory /Users/dmitry/Desktop/Netology DS/RecSys Labs/Lab 1/Models/kNN_Models/u.data.train.2-sims...\n",
      "[2017-12-10 19:53:02,679] INFO: checking for existing output sims...\n",
      "[2017-12-10 19:53:02,681] INFO: creating tasks...\n",
      "[2017-12-10 19:53:02,681] INFO: running 4 tasks in parallel across ipython engines...\n",
      "[2017-12-10 19:53:07,582] INFO: checking output files...\n",
      "[2017-12-10 19:53:07,583] INFO: SUCCESS: all tasks completed\n",
      "[2017-12-10 19:53:07,583] INFO: concatenating 4 partial output files...\n",
      "[2017-12-10 19:53:07,592] INFO: removing partial output files...\n",
      "[2017-12-10 19:53:07,597] INFO: loading 1682 items in CosineKNNRecommender model from /Users/dmitry/Desktop/Netology DS/RecSys Labs/Lab 1/Models/kNN_Models/u.data.train.2.sims.tsv\n",
      "[2017-12-10 19:53:09,739] INFO: done\n",
      "[2017-12-10 19:53:09,739] INFO: processing /Users/dmitry/Desktop/Netology DS/RecSys Labs/Lab 1/splits/u.data.train.3...\n",
      "[2017-12-10 19:53:09,740] INFO: finding number of items...\n",
      "[2017-12-10 19:53:10,524] INFO: 943 users and 1682 items\n",
      "[2017-12-10 19:53:10,524] INFO: creating sims directory /Users/dmitry/Desktop/Netology DS/RecSys Labs/Lab 1/Models/kNN_Models/u.data.train.3-sims...\n",
      "[2017-12-10 19:53:10,531] INFO: checking for existing output sims...\n",
      "[2017-12-10 19:53:10,532] INFO: creating tasks...\n",
      "[2017-12-10 19:53:10,533] INFO: running 4 tasks in parallel across ipython engines...\n",
      "[2017-12-10 19:53:14,866] INFO: checking output files...\n",
      "[2017-12-10 19:53:14,867] INFO: SUCCESS: all tasks completed\n",
      "[2017-12-10 19:53:14,867] INFO: concatenating 4 partial output files...\n",
      "[2017-12-10 19:53:14,877] INFO: removing partial output files...\n",
      "[2017-12-10 19:53:14,880] INFO: loading 1682 items in CosineKNNRecommender model from /Users/dmitry/Desktop/Netology DS/RecSys Labs/Lab 1/Models/kNN_Models/u.data.train.3.sims.tsv\n",
      "[2017-12-10 19:53:16,816] INFO: done\n",
      "[2017-12-10 19:53:16,816] INFO: processing /Users/dmitry/Desktop/Netology DS/RecSys Labs/Lab 1/splits/u.data.train.4...\n",
      "[2017-12-10 19:53:16,816] INFO: finding number of items...\n",
      "[2017-12-10 19:53:17,483] INFO: 943 users and 1682 items\n",
      "[2017-12-10 19:53:17,483] INFO: creating sims directory /Users/dmitry/Desktop/Netology DS/RecSys Labs/Lab 1/Models/kNN_Models/u.data.train.4-sims...\n",
      "[2017-12-10 19:53:17,491] INFO: checking for existing output sims...\n",
      "[2017-12-10 19:53:17,493] INFO: creating tasks...\n",
      "[2017-12-10 19:53:17,493] INFO: running 4 tasks in parallel across ipython engines...\n",
      "[2017-12-10 19:53:21,580] INFO: checking output files...\n",
      "[2017-12-10 19:53:21,581] INFO: SUCCESS: all tasks completed\n",
      "[2017-12-10 19:53:21,581] INFO: concatenating 4 partial output files...\n",
      "[2017-12-10 19:53:21,591] INFO: removing partial output files...\n",
      "[2017-12-10 19:53:21,593] INFO: loading 1682 items in CosineKNNRecommender model from /Users/dmitry/Desktop/Netology DS/RecSys Labs/Lab 1/Models/kNN_Models/u.data.train.4.sims.tsv\n",
      "[2017-12-10 19:53:23,803] INFO: done\n",
      "[2017-12-10 19:53:23,803] INFO: processing /Users/dmitry/Desktop/Netology DS/RecSys Labs/Lab 1/splits/u.data.train.1...\n",
      "[2017-12-10 19:53:23,803] INFO: finding number of items...\n",
      "[2017-12-10 19:53:24,632] INFO: 943 users and 1678 items\n",
      "[2017-12-10 19:53:24,632] INFO: creating sims directory /Users/dmitry/Desktop/Netology DS/RecSys Labs/Lab 1/Models/kNN_Models/u.data.train.1-sims...\n",
      "[2017-12-10 19:53:24,639] INFO: checking for existing output sims...\n",
      "[2017-12-10 19:53:24,640] INFO: creating tasks...\n",
      "[2017-12-10 19:53:24,640] INFO: running 4 tasks in parallel across ipython engines...\n",
      "[2017-12-10 19:53:29,675] INFO: checking output files...\n",
      "[2017-12-10 19:53:29,675] INFO: SUCCESS: all tasks completed\n",
      "[2017-12-10 19:53:29,675] INFO: concatenating 4 partial output files...\n",
      "[2017-12-10 19:53:29,688] INFO: removing partial output files...\n",
      "[2017-12-10 19:53:29,691] INFO: loading 1678 items in CosineKNNRecommender model from /Users/dmitry/Desktop/Netology DS/RecSys Labs/Lab 1/Models/kNN_Models/u.data.train.1.sims.tsv\n",
      "[2017-12-10 19:53:31,829] INFO: done\n",
      "[2017-12-10 19:53:31,829] INFO: processing /Users/dmitry/Desktop/Netology DS/RecSys Labs/Lab 1/splits/u.data.train.0...\n",
      "[2017-12-10 19:53:31,829] INFO: finding number of items...\n",
      "[2017-12-10 19:53:32,674] INFO: 943 users and 1681 items\n",
      "[2017-12-10 19:53:32,674] INFO: creating sims directory /Users/dmitry/Desktop/Netology DS/RecSys Labs/Lab 1/Models/kNN_Models/u.data.train.0-sims...\n",
      "[2017-12-10 19:53:32,680] INFO: checking for existing output sims...\n",
      "[2017-12-10 19:53:32,682] INFO: creating tasks...\n",
      "[2017-12-10 19:53:32,682] INFO: running 4 tasks in parallel across ipython engines...\n",
      "[2017-12-10 19:53:37,745] INFO: checking output files...\n",
      "[2017-12-10 19:53:37,745] INFO: SUCCESS: all tasks completed\n",
      "[2017-12-10 19:53:37,745] INFO: concatenating 4 partial output files...\n",
      "[2017-12-10 19:53:37,755] INFO: removing partial output files...\n",
      "[2017-12-10 19:53:37,758] INFO: loading 1681 items in CosineKNNRecommender model from /Users/dmitry/Desktop/Netology DS/RecSys Labs/Lab 1/Models/kNN_Models/u.data.train.0.sims.tsv\n",
      "[2017-12-10 19:53:39,894] INFO: done\n"
     ]
    }
   ],
   "source": [
    "!mrec_train --model=knn -n4 --input_format tsv --train \"splits/u.data.train.*\" --outdir Models/kNN_Models"
   ]
  },
  {
   "cell_type": "markdown",
   "metadata": {},
   "source": [
    "Делаем рекомендации:"
   ]
  },
  {
   "cell_type": "code",
   "execution_count": 9,
   "metadata": {},
   "outputs": [
    {
     "name": "stdout",
     "output_type": "stream",
     "text": [
      "[2017-12-10 19:53:42,190] INFO: processing /Users/dmitry/Desktop/Netology DS/RecSys Labs/Lab 1/splits/u.data.train.2...\n",
      "[2017-12-10 19:53:42,190] INFO: creating recs directory /Users/dmitry/Desktop/Netology DS/RecSys Labs/Lab 1/Recs/kNN_recs/u.data.train.2-recs...\n",
      "[2017-12-10 19:53:42,197] INFO: checking for existing output recs...\n",
      "[2017-12-10 19:53:42,199] INFO: creating tasks...\n",
      "[2017-12-10 19:53:42,199] INFO: loading dataset to get size...\n",
      "[2017-12-10 19:53:42,941] INFO: loading model to get size...\n",
      "[2017-12-10 19:53:43,020] INFO: created 1 tasks, 21960 users per task\n",
      "[2017-12-10 19:53:43,020] INFO: running in parallel across ipython engines...\n",
      "[2017-12-10 19:53:46,294] INFO: checking output files...\n",
      "[2017-12-10 19:53:46,294] INFO: SUCCESS: all tasks completed\n",
      "[2017-12-10 19:53:46,294] INFO: concatenating 1 partial output files...\n",
      "[2017-12-10 19:53:46,302] INFO: removing partial output files...\n",
      "[2017-12-10 19:53:46,303] INFO: done\n",
      "[2017-12-10 19:53:46,306] INFO: processing /Users/dmitry/Desktop/Netology DS/RecSys Labs/Lab 1/splits/u.data.train.3...\n",
      "[2017-12-10 19:53:46,306] INFO: creating recs directory /Users/dmitry/Desktop/Netology DS/RecSys Labs/Lab 1/Recs/kNN_recs/u.data.train.3-recs...\n",
      "[2017-12-10 19:53:46,312] INFO: checking for existing output recs...\n",
      "[2017-12-10 19:53:46,313] INFO: creating tasks...\n",
      "[2017-12-10 19:53:46,313] INFO: loading dataset to get size...\n",
      "[2017-12-10 19:53:47,049] INFO: loading model to get size...\n",
      "[2017-12-10 19:53:47,074] INFO: created 1 tasks, 21994 users per task\n",
      "[2017-12-10 19:53:47,074] INFO: running in parallel across ipython engines...\n",
      "[2017-12-10 19:53:50,871] INFO: checking output files...\n",
      "[2017-12-10 19:53:50,872] INFO: SUCCESS: all tasks completed\n",
      "[2017-12-10 19:53:50,872] INFO: concatenating 1 partial output files...\n",
      "[2017-12-10 19:53:50,882] INFO: removing partial output files...\n",
      "[2017-12-10 19:53:50,883] INFO: done\n",
      "[2017-12-10 19:53:50,886] INFO: processing /Users/dmitry/Desktop/Netology DS/RecSys Labs/Lab 1/splits/u.data.train.4...\n",
      "[2017-12-10 19:53:50,886] INFO: creating recs directory /Users/dmitry/Desktop/Netology DS/RecSys Labs/Lab 1/Recs/kNN_recs/u.data.train.4-recs...\n",
      "[2017-12-10 19:53:50,893] INFO: checking for existing output recs...\n",
      "[2017-12-10 19:53:50,895] INFO: creating tasks...\n",
      "[2017-12-10 19:53:50,895] INFO: loading dataset to get size...\n",
      "[2017-12-10 19:53:51,667] INFO: loading model to get size...\n",
      "[2017-12-10 19:53:51,696] INFO: created 1 tasks, 22056 users per task\n",
      "[2017-12-10 19:53:51,697] INFO: running in parallel across ipython engines...\n",
      "[2017-12-10 19:53:55,947] INFO: checking output files...\n",
      "[2017-12-10 19:53:55,948] INFO: SUCCESS: all tasks completed\n",
      "[2017-12-10 19:53:55,948] INFO: concatenating 1 partial output files...\n",
      "[2017-12-10 19:53:55,957] INFO: removing partial output files...\n",
      "[2017-12-10 19:53:55,960] INFO: done\n",
      "[2017-12-10 19:53:55,963] INFO: processing /Users/dmitry/Desktop/Netology DS/RecSys Labs/Lab 1/splits/u.data.train.1...\n",
      "[2017-12-10 19:53:55,963] INFO: creating recs directory /Users/dmitry/Desktop/Netology DS/RecSys Labs/Lab 1/Recs/kNN_recs/u.data.train.1-recs...\n",
      "[2017-12-10 19:53:55,969] INFO: checking for existing output recs...\n",
      "[2017-12-10 19:53:55,971] INFO: creating tasks...\n",
      "[2017-12-10 19:53:55,971] INFO: loading dataset to get size...\n",
      "[2017-12-10 19:53:56,795] INFO: loading model to get size...\n",
      "[2017-12-10 19:53:56,835] INFO: created 1 tasks, 22117 users per task\n",
      "[2017-12-10 19:53:56,836] INFO: running in parallel across ipython engines...\n",
      "[2017-12-10 19:54:00,036] INFO: checking output files...\n",
      "[2017-12-10 19:54:00,036] INFO: SUCCESS: all tasks completed\n",
      "[2017-12-10 19:54:00,037] INFO: concatenating 1 partial output files...\n",
      "[2017-12-10 19:54:00,045] INFO: removing partial output files...\n",
      "[2017-12-10 19:54:00,046] INFO: done\n",
      "[2017-12-10 19:54:00,049] INFO: processing /Users/dmitry/Desktop/Netology DS/RecSys Labs/Lab 1/splits/u.data.train.0...\n",
      "[2017-12-10 19:54:00,049] INFO: creating recs directory /Users/dmitry/Desktop/Netology DS/RecSys Labs/Lab 1/Recs/kNN_recs/u.data.train.0-recs...\n",
      "[2017-12-10 19:54:00,055] INFO: checking for existing output recs...\n",
      "[2017-12-10 19:54:00,056] INFO: creating tasks...\n",
      "[2017-12-10 19:54:00,056] INFO: loading dataset to get size...\n",
      "[2017-12-10 19:54:00,774] INFO: loading model to get size...\n",
      "[2017-12-10 19:54:00,801] INFO: created 1 tasks, 22141 users per task\n",
      "[2017-12-10 19:54:00,802] INFO: running in parallel across ipython engines...\n",
      "[2017-12-10 19:54:04,041] INFO: checking output files...\n",
      "[2017-12-10 19:54:04,041] INFO: SUCCESS: all tasks completed\n",
      "[2017-12-10 19:54:04,041] INFO: concatenating 1 partial output files...\n",
      "[2017-12-10 19:54:04,050] INFO: removing partial output files...\n",
      "[2017-12-10 19:54:04,051] INFO: done\n",
      "CosineKNNRecommender(k=100)\n",
      "mrr            0.6271 +/- 0.0050\n",
      "prec@5         0.4079 +/- 0.0018\n",
      "prec@10        0.3599 +/- 0.0018\n",
      "prec@15        0.3268 +/- 0.0016\n",
      "prec@20        0.3036 +/- 0.0009\n"
     ]
    }
   ],
   "source": [
    "!mrec_predict --input_format tsv --test_input_format tsv --train \"splits/u.data.train.*\" --modeldir Models/kNN_models --outdir Recs/kNN_recs"
   ]
  },
  {
   "cell_type": "markdown",
   "metadata": {},
   "source": [
    "### SLIM"
   ]
  },
  {
   "cell_type": "markdown",
   "metadata": {},
   "source": [
    "Обучаем модели(в mrec параметр модели по умолчанию):"
   ]
  },
  {
   "cell_type": "code",
   "execution_count": 10,
   "metadata": {},
   "outputs": [
    {
     "name": "stdout",
     "output_type": "stream",
     "text": [
      "[2017-12-10 19:54:06,386] INFO: processing /Users/dmitry/Desktop/Netology DS/RecSys Labs/Lab 1/splits/u.data.train.2...\n",
      "[2017-12-10 19:54:06,386] INFO: finding number of items...\n",
      "[2017-12-10 19:54:07,140] INFO: 943 users and 1682 items\n",
      "[2017-12-10 19:54:07,140] INFO: creating sims directory /Users/dmitry/Desktop/Netology DS/RecSys Labs/Lab 1/Models/SLIM_models/u.data.train.2-sims...\n",
      "[2017-12-10 19:54:07,146] INFO: checking for existing output sims...\n",
      "[2017-12-10 19:54:07,147] INFO: creating tasks...\n",
      "[2017-12-10 19:54:07,147] INFO: running 4 tasks in parallel across ipython engines...\n",
      "[2017-12-10 19:54:12,770] INFO: checking output files...\n",
      "[2017-12-10 19:54:12,770] INFO: SUCCESS: all tasks completed\n",
      "[2017-12-10 19:54:12,770] INFO: concatenating 4 partial output files...\n",
      "[2017-12-10 19:54:12,784] INFO: removing partial output files...\n",
      "[2017-12-10 19:54:12,787] INFO: loading 1682 items in SLIM model from /Users/dmitry/Desktop/Netology DS/RecSys Labs/Lab 1/Models/SLIM_models/u.data.train.2.sims.tsv\n",
      "[2017-12-10 19:54:14,428] INFO: done\n",
      "[2017-12-10 19:54:14,428] INFO: processing /Users/dmitry/Desktop/Netology DS/RecSys Labs/Lab 1/splits/u.data.train.3...\n",
      "[2017-12-10 19:54:14,428] INFO: finding number of items...\n",
      "[2017-12-10 19:54:15,131] INFO: 943 users and 1682 items\n",
      "[2017-12-10 19:54:15,131] INFO: creating sims directory /Users/dmitry/Desktop/Netology DS/RecSys Labs/Lab 1/Models/SLIM_models/u.data.train.3-sims...\n",
      "[2017-12-10 19:54:15,138] INFO: checking for existing output sims...\n",
      "[2017-12-10 19:54:15,139] INFO: creating tasks...\n",
      "[2017-12-10 19:54:15,139] INFO: running 4 tasks in parallel across ipython engines...\n",
      "[2017-12-10 19:54:20,332] INFO: checking output files...\n",
      "[2017-12-10 19:54:20,333] INFO: SUCCESS: all tasks completed\n",
      "[2017-12-10 19:54:20,333] INFO: concatenating 4 partial output files...\n",
      "[2017-12-10 19:54:20,342] INFO: removing partial output files...\n",
      "[2017-12-10 19:54:20,344] INFO: loading 1682 items in SLIM model from /Users/dmitry/Desktop/Netology DS/RecSys Labs/Lab 1/Models/SLIM_models/u.data.train.3.sims.tsv\n",
      "[2017-12-10 19:54:21,728] INFO: done\n",
      "[2017-12-10 19:54:21,728] INFO: processing /Users/dmitry/Desktop/Netology DS/RecSys Labs/Lab 1/splits/u.data.train.4...\n",
      "[2017-12-10 19:54:21,728] INFO: finding number of items...\n",
      "[2017-12-10 19:54:22,439] INFO: 943 users and 1682 items\n",
      "[2017-12-10 19:54:22,439] INFO: creating sims directory /Users/dmitry/Desktop/Netology DS/RecSys Labs/Lab 1/Models/SLIM_models/u.data.train.4-sims...\n",
      "[2017-12-10 19:54:22,447] INFO: checking for existing output sims...\n",
      "[2017-12-10 19:54:22,447] INFO: creating tasks...\n",
      "[2017-12-10 19:54:22,447] INFO: running 4 tasks in parallel across ipython engines...\n",
      "[2017-12-10 19:54:27,708] INFO: checking output files...\n",
      "[2017-12-10 19:54:27,708] INFO: SUCCESS: all tasks completed\n",
      "[2017-12-10 19:54:27,708] INFO: concatenating 4 partial output files...\n",
      "[2017-12-10 19:54:27,718] INFO: removing partial output files...\n",
      "[2017-12-10 19:54:27,720] INFO: loading 1682 items in SLIM model from /Users/dmitry/Desktop/Netology DS/RecSys Labs/Lab 1/Models/SLIM_models/u.data.train.4.sims.tsv\n",
      "[2017-12-10 19:54:29,082] INFO: done\n",
      "[2017-12-10 19:54:29,083] INFO: processing /Users/dmitry/Desktop/Netology DS/RecSys Labs/Lab 1/splits/u.data.train.1...\n",
      "[2017-12-10 19:54:29,083] INFO: finding number of items...\n",
      "[2017-12-10 19:54:29,771] INFO: 943 users and 1678 items\n",
      "[2017-12-10 19:54:29,771] INFO: creating sims directory /Users/dmitry/Desktop/Netology DS/RecSys Labs/Lab 1/Models/SLIM_models/u.data.train.1-sims...\n",
      "[2017-12-10 19:54:29,777] INFO: checking for existing output sims...\n",
      "[2017-12-10 19:54:29,779] INFO: creating tasks...\n",
      "[2017-12-10 19:54:29,779] INFO: running 4 tasks in parallel across ipython engines...\n",
      "[2017-12-10 19:54:34,999] INFO: checking output files...\n",
      "[2017-12-10 19:54:35,000] INFO: SUCCESS: all tasks completed\n",
      "[2017-12-10 19:54:35,000] INFO: concatenating 4 partial output files...\n",
      "[2017-12-10 19:54:35,018] INFO: removing partial output files...\n",
      "[2017-12-10 19:54:35,021] INFO: loading 1678 items in SLIM model from /Users/dmitry/Desktop/Netology DS/RecSys Labs/Lab 1/Models/SLIM_models/u.data.train.1.sims.tsv\n",
      "[2017-12-10 19:54:36,513] INFO: done\n",
      "[2017-12-10 19:54:36,513] INFO: processing /Users/dmitry/Desktop/Netology DS/RecSys Labs/Lab 1/splits/u.data.train.0...\n",
      "[2017-12-10 19:54:36,513] INFO: finding number of items...\n",
      "[2017-12-10 19:54:37,206] INFO: 943 users and 1681 items\n",
      "[2017-12-10 19:54:37,206] INFO: creating sims directory /Users/dmitry/Desktop/Netology DS/RecSys Labs/Lab 1/Models/SLIM_models/u.data.train.0-sims...\n",
      "[2017-12-10 19:54:37,214] INFO: checking for existing output sims...\n",
      "[2017-12-10 19:54:37,215] INFO: creating tasks...\n",
      "[2017-12-10 19:54:37,215] INFO: running 4 tasks in parallel across ipython engines...\n",
      "[2017-12-10 19:54:42,466] INFO: checking output files...\n",
      "[2017-12-10 19:54:42,466] INFO: SUCCESS: all tasks completed\n",
      "[2017-12-10 19:54:42,466] INFO: concatenating 4 partial output files...\n",
      "[2017-12-10 19:54:42,475] INFO: removing partial output files...\n",
      "[2017-12-10 19:54:42,477] INFO: loading 1681 items in SLIM model from /Users/dmitry/Desktop/Netology DS/RecSys Labs/Lab 1/Models/SLIM_models/u.data.train.0.sims.tsv\n",
      "[2017-12-10 19:54:43,794] INFO: done\n"
     ]
    }
   ],
   "source": [
    "!mrec_train -n4 --input_format tsv --train \"splits/u.data.train.*\" --outdir Models/SLIM_models"
   ]
  },
  {
   "cell_type": "code",
   "execution_count": 11,
   "metadata": {},
   "outputs": [
    {
     "name": "stdout",
     "output_type": "stream",
     "text": [
      "[2017-12-10 19:54:45,970] INFO: processing /Users/dmitry/Desktop/Netology DS/RecSys Labs/Lab 1/splits/u.data.train.2...\n",
      "[2017-12-10 19:54:45,970] INFO: creating recs directory /Users/dmitry/Desktop/Netology DS/RecSys Labs/Lab 1/Recs/SLIM_recs/u.data.train.2-recs...\n",
      "[2017-12-10 19:54:45,978] INFO: checking for existing output recs...\n",
      "[2017-12-10 19:54:45,980] INFO: creating tasks...\n",
      "[2017-12-10 19:54:45,980] INFO: loading dataset to get size...\n",
      "[2017-12-10 19:54:46,635] INFO: loading model to get size...\n",
      "[2017-12-10 19:54:46,781] INFO: created 1 tasks, 29623 users per task\n",
      "[2017-12-10 19:54:46,781] INFO: running in parallel across ipython engines...\n",
      "[2017-12-10 19:54:49,932] INFO: checking output files...\n",
      "[2017-12-10 19:54:49,932] INFO: SUCCESS: all tasks completed\n",
      "[2017-12-10 19:54:49,932] INFO: concatenating 1 partial output files...\n",
      "[2017-12-10 19:54:49,940] INFO: removing partial output files...\n",
      "[2017-12-10 19:54:49,941] INFO: done\n",
      "[2017-12-10 19:54:49,944] INFO: processing /Users/dmitry/Desktop/Netology DS/RecSys Labs/Lab 1/splits/u.data.train.3...\n",
      "[2017-12-10 19:54:49,945] INFO: creating recs directory /Users/dmitry/Desktop/Netology DS/RecSys Labs/Lab 1/Recs/SLIM_recs/u.data.train.3-recs...\n",
      "[2017-12-10 19:54:49,950] INFO: checking for existing output recs...\n",
      "[2017-12-10 19:54:49,951] INFO: creating tasks...\n",
      "[2017-12-10 19:54:49,951] INFO: loading dataset to get size...\n",
      "[2017-12-10 19:54:50,639] INFO: loading model to get size...\n",
      "[2017-12-10 19:54:50,658] INFO: created 1 tasks, 29693 users per task\n",
      "[2017-12-10 19:54:50,659] INFO: running in parallel across ipython engines...\n",
      "[2017-12-10 19:54:53,734] INFO: checking output files...\n",
      "[2017-12-10 19:54:53,735] INFO: SUCCESS: all tasks completed\n",
      "[2017-12-10 19:54:53,735] INFO: concatenating 1 partial output files...\n",
      "[2017-12-10 19:54:53,743] INFO: removing partial output files...\n",
      "[2017-12-10 19:54:53,744] INFO: done\n",
      "[2017-12-10 19:54:53,747] INFO: processing /Users/dmitry/Desktop/Netology DS/RecSys Labs/Lab 1/splits/u.data.train.4...\n",
      "[2017-12-10 19:54:53,747] INFO: creating recs directory /Users/dmitry/Desktop/Netology DS/RecSys Labs/Lab 1/Recs/SLIM_recs/u.data.train.4-recs...\n",
      "[2017-12-10 19:54:53,753] INFO: checking for existing output recs...\n",
      "[2017-12-10 19:54:53,754] INFO: creating tasks...\n",
      "[2017-12-10 19:54:53,754] INFO: loading dataset to get size...\n",
      "[2017-12-10 19:54:54,466] INFO: loading model to get size...\n",
      "[2017-12-10 19:54:54,485] INFO: created 1 tasks, 29768 users per task\n",
      "[2017-12-10 19:54:54,485] INFO: running in parallel across ipython engines...\n",
      "[2017-12-10 19:54:57,546] INFO: checking output files...\n",
      "[2017-12-10 19:54:57,546] INFO: SUCCESS: all tasks completed\n",
      "[2017-12-10 19:54:57,546] INFO: concatenating 1 partial output files...\n",
      "[2017-12-10 19:54:57,554] INFO: removing partial output files...\n",
      "[2017-12-10 19:54:57,555] INFO: done\n",
      "[2017-12-10 19:54:57,558] INFO: processing /Users/dmitry/Desktop/Netology DS/RecSys Labs/Lab 1/splits/u.data.train.1...\n",
      "[2017-12-10 19:54:57,558] INFO: creating recs directory /Users/dmitry/Desktop/Netology DS/RecSys Labs/Lab 1/Recs/SLIM_recs/u.data.train.1-recs...\n",
      "[2017-12-10 19:54:57,564] INFO: checking for existing output recs...\n",
      "[2017-12-10 19:54:57,565] INFO: creating tasks...\n",
      "[2017-12-10 19:54:57,565] INFO: loading dataset to get size...\n",
      "[2017-12-10 19:54:58,277] INFO: loading model to get size...\n",
      "[2017-12-10 19:54:58,303] INFO: created 1 tasks, 29725 users per task\n",
      "[2017-12-10 19:54:58,303] INFO: running in parallel across ipython engines...\n",
      "[2017-12-10 19:55:01,390] INFO: checking output files...\n",
      "[2017-12-10 19:55:01,390] INFO: SUCCESS: all tasks completed\n",
      "[2017-12-10 19:55:01,390] INFO: concatenating 1 partial output files...\n",
      "[2017-12-10 19:55:01,400] INFO: removing partial output files...\n",
      "[2017-12-10 19:55:01,400] INFO: done\n",
      "[2017-12-10 19:55:01,404] INFO: processing /Users/dmitry/Desktop/Netology DS/RecSys Labs/Lab 1/splits/u.data.train.0...\n",
      "[2017-12-10 19:55:01,404] INFO: creating recs directory /Users/dmitry/Desktop/Netology DS/RecSys Labs/Lab 1/Recs/SLIM_recs/u.data.train.0-recs...\n",
      "[2017-12-10 19:55:01,410] INFO: checking for existing output recs...\n",
      "[2017-12-10 19:55:01,411] INFO: creating tasks...\n",
      "[2017-12-10 19:55:01,411] INFO: loading dataset to get size...\n",
      "[2017-12-10 19:55:02,120] INFO: loading model to get size...\n",
      "[2017-12-10 19:55:02,142] INFO: created 1 tasks, 29749 users per task\n",
      "[2017-12-10 19:55:02,142] INFO: running in parallel across ipython engines...\n",
      "[2017-12-10 19:55:05,341] INFO: checking output files...\n",
      "[2017-12-10 19:55:05,341] INFO: SUCCESS: all tasks completed\n",
      "[2017-12-10 19:55:05,341] INFO: concatenating 1 partial output files...\n",
      "[2017-12-10 19:55:05,349] INFO: removing partial output files...\n",
      "[2017-12-10 19:55:05,350] INFO: done\n",
      "SLIM(SGDRegressor(alpha=0.0011, average=False, epsilon=0.1, eta0=0.01,\n",
      "       fit_intercept=False, l1_ratio=0.9090909090909091,\n",
      "       learning_rate='invscaling', loss='squared_loss', max_iter=None,\n",
      "       n_iter=None, penalty='elasticnet', power_t=0.25, random_state=None,\n",
      "       shuffle=True, tol=None, verbose=0, warm_start=False))\n",
      "mrr            0.6879 +/- 0.0031\n",
      "prec@5         0.4382 +/- 0.0009\n",
      "prec@10        0.3806 +/- 0.0015\n",
      "prec@15        0.3418 +/- 0.0014\n",
      "prec@20        0.3144 +/- 0.0012\n"
     ]
    }
   ],
   "source": [
    "!mrec_predict --input_format tsv --test_input_format tsv --train \"splits/u.data.train.*\" --modeldir Models/SLIM_models --outdir Recs/SLIM_recs"
   ]
  },
  {
   "cell_type": "markdown",
   "metadata": {},
   "source": [
    "### Посмотрим на рекомендации"
   ]
  },
  {
   "cell_type": "code",
   "execution_count": 12,
   "metadata": {},
   "outputs": [
    {
     "data": {
      "text/html": [
       "<div>\n",
       "<style>\n",
       "    .dataframe thead tr:only-child th {\n",
       "        text-align: right;\n",
       "    }\n",
       "\n",
       "    .dataframe thead th {\n",
       "        text-align: left;\n",
       "    }\n",
       "\n",
       "    .dataframe tbody tr th {\n",
       "        vertical-align: top;\n",
       "    }\n",
       "</style>\n",
       "<table border=\"1\" class=\"dataframe\">\n",
       "  <thead>\n",
       "    <tr style=\"text-align: right;\">\n",
       "      <th></th>\n",
       "      <th>user_id</th>\n",
       "      <th>movie_id</th>\n",
       "      <th>prediction</th>\n",
       "    </tr>\n",
       "  </thead>\n",
       "  <tbody>\n",
       "    <tr>\n",
       "      <th>0</th>\n",
       "      <td>1</td>\n",
       "      <td>89</td>\n",
       "      <td>7.985194</td>\n",
       "    </tr>\n",
       "    <tr>\n",
       "      <th>1</th>\n",
       "      <td>1</td>\n",
       "      <td>357</td>\n",
       "      <td>7.670477</td>\n",
       "    </tr>\n",
       "    <tr>\n",
       "      <th>2</th>\n",
       "      <td>1</td>\n",
       "      <td>168</td>\n",
       "      <td>7.483268</td>\n",
       "    </tr>\n",
       "    <tr>\n",
       "      <th>3</th>\n",
       "      <td>1</td>\n",
       "      <td>181</td>\n",
       "      <td>7.349954</td>\n",
       "    </tr>\n",
       "    <tr>\n",
       "      <th>4</th>\n",
       "      <td>1</td>\n",
       "      <td>56</td>\n",
       "      <td>6.769423</td>\n",
       "    </tr>\n",
       "    <tr>\n",
       "      <th>5</th>\n",
       "      <td>1</td>\n",
       "      <td>64</td>\n",
       "      <td>6.763624</td>\n",
       "    </tr>\n",
       "    <tr>\n",
       "      <th>6</th>\n",
       "      <td>1</td>\n",
       "      <td>204</td>\n",
       "      <td>6.735318</td>\n",
       "    </tr>\n",
       "    <tr>\n",
       "      <th>7</th>\n",
       "      <td>1</td>\n",
       "      <td>176</td>\n",
       "      <td>6.683467</td>\n",
       "    </tr>\n",
       "    <tr>\n",
       "      <th>8</th>\n",
       "      <td>1</td>\n",
       "      <td>22</td>\n",
       "      <td>6.410798</td>\n",
       "    </tr>\n",
       "    <tr>\n",
       "      <th>9</th>\n",
       "      <td>1</td>\n",
       "      <td>69</td>\n",
       "      <td>6.356558</td>\n",
       "    </tr>\n",
       "  </tbody>\n",
       "</table>\n",
       "</div>"
      ],
      "text/plain": [
       "   user_id  movie_id  prediction\n",
       "0        1        89    7.985194\n",
       "1        1       357    7.670477\n",
       "2        1       168    7.483268\n",
       "3        1       181    7.349954\n",
       "4        1        56    6.769423\n",
       "5        1        64    6.763624\n",
       "6        1       204    6.735318\n",
       "7        1       176    6.683467\n",
       "8        1        22    6.410798\n",
       "9        1        69    6.356558"
      ]
     },
     "execution_count": 12,
     "metadata": {},
     "output_type": "execute_result"
    }
   ],
   "source": [
    "import pandas as pd\n",
    "pred_example = pd.read_csv(\"Recs/kNN_Recs/u.data.train.0.recs.tsv\", sep=\"\\t\", header=None, index_col=None)\n",
    "pred_example.columns = [\"user_id\", \"movie_id\", \"prediction\"]\n",
    "pred_example.head(10)"
   ]
  },
  {
   "cell_type": "code",
   "execution_count": 13,
   "metadata": {},
   "outputs": [
    {
     "data": {
      "text/html": [
       "<div>\n",
       "<style>\n",
       "    .dataframe thead tr:only-child th {\n",
       "        text-align: right;\n",
       "    }\n",
       "\n",
       "    .dataframe thead th {\n",
       "        text-align: left;\n",
       "    }\n",
       "\n",
       "    .dataframe tbody tr th {\n",
       "        vertical-align: top;\n",
       "    }\n",
       "</style>\n",
       "<table border=\"1\" class=\"dataframe\">\n",
       "  <thead>\n",
       "    <tr style=\"text-align: right;\">\n",
       "      <th></th>\n",
       "      <th>movie_id</th>\n",
       "      <th>movie_title</th>\n",
       "    </tr>\n",
       "  </thead>\n",
       "  <tbody>\n",
       "    <tr>\n",
       "      <th>0</th>\n",
       "      <td>1</td>\n",
       "      <td>Toy Story (1995)</td>\n",
       "    </tr>\n",
       "    <tr>\n",
       "      <th>1</th>\n",
       "      <td>2</td>\n",
       "      <td>GoldenEye (1995)</td>\n",
       "    </tr>\n",
       "    <tr>\n",
       "      <th>2</th>\n",
       "      <td>3</td>\n",
       "      <td>Four Rooms (1995)</td>\n",
       "    </tr>\n",
       "    <tr>\n",
       "      <th>3</th>\n",
       "      <td>4</td>\n",
       "      <td>Get Shorty (1995)</td>\n",
       "    </tr>\n",
       "    <tr>\n",
       "      <th>4</th>\n",
       "      <td>5</td>\n",
       "      <td>Copycat (1995)</td>\n",
       "    </tr>\n",
       "  </tbody>\n",
       "</table>\n",
       "</div>"
      ],
      "text/plain": [
       "   movie_id        movie_title\n",
       "0         1   Toy Story (1995)\n",
       "1         2   GoldenEye (1995)\n",
       "2         3  Four Rooms (1995)\n",
       "3         4  Get Shorty (1995)\n",
       "4         5     Copycat (1995)"
      ]
     },
     "execution_count": 13,
     "metadata": {},
     "output_type": "execute_result"
    }
   ],
   "source": [
    "item = pd.read_csv(\"ml-100k/u.item\", sep=\"|\", header=None, index_col=None,  encoding = \"ISO-8859-1\")\n",
    "item.drop(list(range(2,24)), axis=1, inplace=True)\n",
    "item.columns = ['movie_id', 'movie_title']\n",
    "item.head()"
   ]
  },
  {
   "cell_type": "code",
   "execution_count": 14,
   "metadata": {},
   "outputs": [
    {
     "data": {
      "text/plain": [
       "0     89\n",
       "1    357\n",
       "2    168\n",
       "3    181\n",
       "4     56\n",
       "5     64\n",
       "6    204\n",
       "7    176\n",
       "8     22\n",
       "9     69\n",
       "Name: movie_id, dtype: int64"
      ]
     },
     "execution_count": 14,
     "metadata": {},
     "output_type": "execute_result"
    }
   ],
   "source": [
    "movie = pred_example.head(10)[\"movie_id\"]\n",
    "movie"
   ]
  },
  {
   "cell_type": "code",
   "execution_count": 15,
   "metadata": {},
   "outputs": [
    {
     "data": {
      "text/plain": [
       "21                          Braveheart (1995)\n",
       "55                        Pulp Fiction (1994)\n",
       "63           Shawshank Redemption, The (1994)\n",
       "68                        Forrest Gump (1994)\n",
       "88                        Blade Runner (1982)\n",
       "167    Monty Python and the Holy Grail (1974)\n",
       "175                             Aliens (1986)\n",
       "180                 Return of the Jedi (1983)\n",
       "203                 Back to the Future (1985)\n",
       "356    One Flew Over the Cuckoo's Nest (1975)\n",
       "Name: movie_title, dtype: object"
      ]
     },
     "execution_count": 15,
     "metadata": {},
     "output_type": "execute_result"
    }
   ],
   "source": [
    "res = item[item[\"movie_id\"].isin(movie.values)][\"movie_title\"]\n",
    "res"
   ]
  }
 ],
 "metadata": {
  "kernelspec": {
   "display_name": "Python 3",
   "language": "python",
   "name": "python3"
  },
  "language_info": {
   "codemirror_mode": {
    "name": "ipython",
    "version": 3
   },
   "file_extension": ".py",
   "mimetype": "text/x-python",
   "name": "python",
   "nbconvert_exporter": "python",
   "pygments_lexer": "ipython3",
   "version": "3.6.3"
  }
 },
 "nbformat": 4,
 "nbformat_minor": 2
}
