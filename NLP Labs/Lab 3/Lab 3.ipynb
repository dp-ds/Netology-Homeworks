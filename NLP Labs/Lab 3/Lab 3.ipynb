{
 "cells": [
  {
   "cell_type": "markdown",
   "metadata": {},
   "source": [
    "### Часть 1"
   ]
  },
  {
   "cell_type": "markdown",
   "metadata": {},
   "source": [
    "Дергаем значения со страницы по xpath:"
   ]
  },
  {
   "cell_type": "code",
   "execution_count": 1,
   "metadata": {},
   "outputs": [],
   "source": [
    "from lxml import html\n",
    "import requests\n",
    "\n",
    "headers = {'User-Agent': 'Mozilla/5.0 (Macintosh; Intel Mac OS X 10_13_1) AppleWebKit/537.36 (KHTML, like Gecko) Chrome/63.0.3239.108 Safari/537.36'}\n",
    "page = requests.get('https://www.gismeteo.ru/weather-moscow-4368/now/', headers=headers)\n",
    "tree = html.fromstring(page.content)"
   ]
  },
  {
   "cell_type": "code",
   "execution_count": 2,
   "metadata": {},
   "outputs": [],
   "source": [
    "temp = tree.xpath('/html/body/section/div/div/div[1]/div[3]/div[1]/div[1]/div/div/div[1]/div[3]/div[1]/span/text()')[0].strip()\n",
    "wind = tree.xpath('/html/body/section/div/div/div[1]/div[3]/div[1]/div[2]/div/div[6]/div[1]/div/div[2]/text()')[0].strip()\n",
    "hum = tree.xpath('/html/body/section/div/div/div[1]/div[3]/div[1]/div[2]/div/div[6]/div[3]/div/div[2]/text()')[0].strip()"
   ]
  },
  {
   "cell_type": "markdown",
   "metadata": {},
   "source": [
    "### Часть 2"
   ]
  },
  {
   "cell_type": "code",
   "execution_count": 3,
   "metadata": {
    "collapsed": true
   },
   "outputs": [],
   "source": [
    "import pymorphy2"
   ]
  },
  {
   "cell_type": "code",
   "execution_count": 4,
   "metadata": {},
   "outputs": [],
   "source": [
    "morph = pymorphy2.MorphAnalyzer()\n",
    "degree = morph.parse('градус')[0]\n",
    "degree = degree.make_agree_with_number(int(temp)).word\n",
    "speed = morph.parse('метр')[0]\n",
    "speed = speed.make_agree_with_number(int(wind)).word\n",
    "percent = morph.parse('процент')[0]\n",
    "percent = percent.make_agree_with_number(int(hum)).word"
   ]
  },
  {
   "cell_type": "code",
   "execution_count": 5,
   "metadata": {},
   "outputs": [
    {
     "data": {
      "text/plain": [
       "'Температура сегодня составляет +1 градус. Скорость ветра 2 метра в секунду. Влажность 92 процента'"
      ]
     },
     "execution_count": 5,
     "metadata": {},
     "output_type": "execute_result"
    }
   ],
   "source": [
    "result_str = 'Температура сегодня составляет %s %s. Скорость ветра %s %s в секунду. Влажность %s %s' % (temp, degree, wind, speed, hum, percent)\n",
    "result_str"
   ]
  },
  {
   "cell_type": "markdown",
   "metadata": {},
   "source": [
    "### Часть 3 "
   ]
  },
  {
   "cell_type": "markdown",
   "metadata": {},
   "source": [
    "Сравним температуру в Москве с температурой в Риме:"
   ]
  },
  {
   "cell_type": "code",
   "execution_count": 6,
   "metadata": {},
   "outputs": [],
   "source": [
    "page = requests.get('https://www.gismeteo.ru/weather-rome-3561/now/', headers=headers)\n",
    "tree = html.fromstring(page.content)\n",
    "temp_rome = tree.xpath('/html/body/section/div/div/div[1]/div[3]/div[1]/div[1]/div/div/div[1]/div[3]/div[1]/span/text()')[0].strip()"
   ]
  },
  {
   "cell_type": "code",
   "execution_count": 7,
   "metadata": {},
   "outputs": [
    {
     "data": {
      "text/plain": [
       "'+1'"
      ]
     },
     "execution_count": 7,
     "metadata": {},
     "output_type": "execute_result"
    }
   ],
   "source": [
    "temp"
   ]
  },
  {
   "cell_type": "code",
   "execution_count": 8,
   "metadata": {},
   "outputs": [
    {
     "data": {
      "text/plain": [
       "'+8'"
      ]
     },
     "execution_count": 8,
     "metadata": {},
     "output_type": "execute_result"
    }
   ],
   "source": [
    "temp_rome"
   ]
  },
  {
   "cell_type": "code",
   "execution_count": 9,
   "metadata": {},
   "outputs": [
    {
     "name": "stdout",
     "output_type": "stream",
     "text": [
      "Температура в Москве на 7 градусов ниже, чем в Риме\n"
     ]
    }
   ],
   "source": [
    "degree = morph.parse('градус')[0]\n",
    "degree = degree.make_agree_with_number(int(temp_rome)).word\n",
    "if int(temp) < int(temp_rome):\n",
    "    print('Температура в Москве на %s %s ниже, чем в Риме' % (int(temp_rome)-int(temp), degree))\n",
    "elif int(temp) > int(temp_rome):\n",
    "    print('Температура в Москве на %s %s выше, чем в Риме' % (int(temp)-int(temp_rome), degree))\n",
    "else: \n",
    "    print('Температуры равны')"
   ]
  }
 ],
 "metadata": {
  "kernelspec": {
   "display_name": "Python 3",
   "language": "python",
   "name": "python3"
  },
  "language_info": {
   "codemirror_mode": {
    "name": "ipython",
    "version": 3
   },
   "file_extension": ".py",
   "mimetype": "text/x-python",
   "name": "python",
   "nbconvert_exporter": "python",
   "pygments_lexer": "ipython3",
   "version": "3.6.3"
  }
 },
 "nbformat": 4,
 "nbformat_minor": 2
}
